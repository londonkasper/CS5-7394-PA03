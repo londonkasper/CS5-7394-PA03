{
 "cells": [
  {
   "cell_type": "code",
   "execution_count": 4,
   "id": "e731cf42-1340-4313-8440-76e9cb7db11d",
   "metadata": {},
   "outputs": [],
   "source": [
    "import numpy as np\n",
    "import matplotlib.pyplot as plt\n",
    "import utils.mnist_reader as mnist_reader"
   ]
  },
  {
   "cell_type": "code",
   "execution_count": 5,
   "id": "b7149dd4-7ef6-4043-85ed-5459251b2dc1",
   "metadata": {},
   "outputs": [
    {
     "data": {
      "text/plain": [
       "(60000, 784)"
      ]
     },
     "execution_count": 5,
     "metadata": {},
     "output_type": "execute_result"
    }
   ],
   "source": [
    "x_train, y_train = mnist_reader.load_mnist('data/fashion', kind='train')\n",
    "x_test, y_test = mnist_reader.load_mnist('data/fashion', kind='t10k')\n",
    "x_train.shape"
   ]
  },
  {
   "cell_type": "code",
   "execution_count": 6,
   "id": "d2ff88e4-307f-42bb-a6c6-d74619909ca2",
   "metadata": {},
   "outputs": [
    {
     "data": {
      "text/plain": [
       "(60000,)"
      ]
     },
     "execution_count": 6,
     "metadata": {},
     "output_type": "execute_result"
    }
   ],
   "source": [
    "y_train.shape\n"
   ]
  },
  {
   "cell_type": "code",
   "execution_count": 7,
   "id": "18577c93-a92e-4f3b-805d-1c7555259c72",
   "metadata": {},
   "outputs": [
    {
     "data": {
      "image/png": "[encoded data removed]",
      "text/plain": [
       "<Figure size 432x288 with 1 Axes>"
      ]
     },
     "metadata": {
      "needs_background": "light"
     },
     "output_type": "display_data"
    }
   ],
   "source": [
    "some_digit = x_train[5]\n",
    "some_digit_image = some_digit.reshape(28, 28)\n",
    "\n",
    "plt.imshow(some_digit_image, cmap=\"binary\")\n",
    "plt.axis(\"off\")\n",
    "plt.show()"
   ]
  },
  {
   "cell_type": "code",
   "execution_count": 8,
   "id": "9969d2db-3282-43ed-8072-ad60cf85fde5",
   "metadata": {},
   "outputs": [
    {
     "data": {
      "text/plain": [
       "2"
      ]
     },
     "execution_count": 8,
     "metadata": {},
     "output_type": "execute_result"
    }
   ],
   "source": [
    "y_train[5]"
   ]
  },
  {
   "cell_type": "code",
   "execution_count": 9,
   "id": "e53d9e28-885e-46e6-ac30-bb8301bc5eb5",
   "metadata": {},
   "outputs": [],
   "source": [
    "y_train = y_train.astype(np.uint8)"
   ]
  },
  {
   "cell_type": "code",
   "execution_count": 10,
   "id": "834ee8a4-5800-48ec-9a4b-f040de757804",
   "metadata": {},
   "outputs": [],
   "source": [
    "y_train_2 = (y_train == 2)  # True for all 2s, False for all other digits JUST SHIRTS\n",
    "y_test_2 = (y_test == 2)"
   ]
  },
  {
   "cell_type": "markdown",
   "id": "ae75836a-4193-49f7-abfb-ab9a910d3e2d",
   "metadata": {},
   "source": [
    "### \"Use SGDClassifier\""
   ]
  },
  {
   "cell_type": "code",
   "execution_count": 11,
   "id": "ae3af641-f533-4793-bb04-da01bd7d64e8",
   "metadata": {},
   "outputs": [
    {
     "data": {
      "text/plain": [
       "array([False])"
      ]
     },
     "execution_count": 11,
     "metadata": {},
     "output_type": "execute_result"
    }
   ],
   "source": [
    "from sklearn.linear_model import SGDClassifier\n",
    "\n",
    "sgd_clf = SGDClassifier(random_state=42)\n",
    "sgd_clf.fit(x_train, y_train_2)\n",
    "sgd_clf.predict([some_digit]) #interesting.. that was supposed to be true"
   ]
  },
  {
   "cell_type": "markdown",
   "id": "db6fb126-874c-43e9-8679-4dd3495d33af",
   "metadata": {},
   "source": [
    "### \"Use StratifiedKFold cross validation\""
   ]
  },
  {
   "cell_type": "code",
   "execution_count": 12,
   "id": "b0557c97-aeb0-465b-ac05-0b67a66f2fac",
   "metadata": {},
   "outputs": [
    {
     "name": "stdout",
     "output_type": "stream",
     "text": [
      "0.9381\n",
      "0.91735\n",
      "0.9284\n"
     ]
    }
   ],
   "source": [
    "from sklearn.model_selection import StratifiedKFold\n",
    "from sklearn.base import clone\n",
    "\n",
    "skfolds = StratifiedKFold(n_splits=3, shuffle=True, random_state=42)\n",
    "\n",
    "for train_index, test_index in skfolds.split(x_train, y_train_2):\n",
    "    clone_clf = clone(sgd_clf)\n",
    "    x_train_folds = x_train[train_index]\n",
    "    y_train_folds = y_train_2[train_index]\n",
    "    x_test_fold = x_train[test_index]\n",
    "    y_test_fold = y_train_2[test_index]\n",
    "\n",
    "    clone_clf.fit(x_train_folds, y_train_folds)\n",
    "    y_pred = clone_clf.predict(x_test_fold)\n",
    "    n_correct = sum(y_pred == y_test_fold)\n",
    "    print(n_correct / len(y_pred))"
   ]
  },
  {
   "cell_type": "markdown",
   "id": "ef2ed42f-76cf-4dcc-8cd2-bb2dcd40f52a",
   "metadata": {},
   "source": [
    "### \"Use StratifiedKFold cross validation\""
   ]
  },
  {
   "cell_type": "code",
   "execution_count": 13,
   "id": "0b8dc803-58ad-4c2c-ac04-66794d75a9ed",
   "metadata": {},
   "outputs": [
    {
     "data": {
      "text/plain": [
       "array([0.9345 , 0.93565, 0.91235])"
      ]
     },
     "execution_count": 13,
     "metadata": {},
     "output_type": "execute_result"
    }
   ],
   "source": [
    "from sklearn.model_selection import cross_val_score\n",
    "cross_val_score(sgd_clf, x_train, y_train_2, cv=3, scoring=\"accuracy\")\n"
   ]
  },
  {
   "cell_type": "code",
   "execution_count": 14,
   "id": "a8449bb3-afba-4a48-9820-cc02aa421930",
   "metadata": {},
   "outputs": [],
   "source": [
    "from sklearn.model_selection import cross_val_predict\n",
    "y_train_pred = cross_val_predict(sgd_clf, x_train, y_train_2, cv=3)"
   ]
  },
  {
   "cell_type": "markdown",
   "id": "183929a7-ab19-4cfc-84be-64a59f6449bf",
   "metadata": {},
   "source": [
    "### \"Generate a confusion matrix\""
   ]
  },
  {
   "cell_type": "code",
   "execution_count": 15,
   "id": "699290e9-d425-47d3-8d7b-c4b7f52b0883",
   "metadata": {},
   "outputs": [
    {
     "data": {
      "text/plain": [
       "array([[51813,  2187],\n",
       "       [ 2163,  3837]], dtype=int64)"
      ]
     },
     "execution_count": 15,
     "metadata": {},
     "output_type": "execute_result"
    }
   ],
   "source": [
    "from sklearn.metrics import confusion_matrix\n",
    "confusion_matrix(y_train_2, y_train_pred) \n",
    "# The results show that in the negative class 51813 were correctly classified. The remaining 2187 were incorrectly classified.\n",
    "# Additionally, in the positive class, 2163 were incorrectly classified as non-2s and 3837 were correctly classified as 2s\n",
    "# Read as:\n",
    "# true neg, false pos\n",
    "# false neg, true pos"
   ]
  },
  {
   "cell_type": "markdown",
   "id": "b54f4b6d-c713-43e9-a83d-61d3fea64c25",
   "metadata": {},
   "source": [
    "### \"Use k-fold Cross Validation\""
   ]
  },
  {
   "cell_type": "code",
   "execution_count": 16,
   "id": "3cf3461e-c1f6-4d83-8f06-ee9f3c4c5c35",
   "metadata": {},
   "outputs": [],
   "source": [
    "y_scores = cross_val_predict(sgd_clf, x_train, y_train_2, cv=3, method=\"decision_function\")"
   ]
  },
  {
   "cell_type": "markdown",
   "id": "e3e3959d-7184-4a7a-9249-bb40b705e3ac",
   "metadata": {},
   "source": [
    "### \"Generate a ROC curve or related\""
   ]
  },
  {
   "cell_type": "code",
   "execution_count": 17,
   "id": "e3d647bb-66f0-4745-ac04-de00fdb81b89",
   "metadata": {},
   "outputs": [
    {
     "data": {
      "image/png": "[encoded data removed]",
      "text/plain": [
       "<Figure size 432x288 with 1 Axes>"
      ]
     },
     "metadata": {
      "needs_background": "light"
     },
     "output_type": "display_data"
    }
   ],
   "source": [
    "from sklearn.metrics import roc_curve\n",
    "fpr, tpr, thresholds = roc_curve(y_train_2, y_scores)\n",
    "def plot_roc_curve(fpr, tpr, label=None):\n",
    "    plt.plot(fpr, tpr, linewidth=2, label=label)\n",
    "    plt.plot([0,1],[0,1],'k--')\n",
    "plot_roc_curve(fpr,tpr)\n",
    "plt.show()"
   ]
  },
  {
   "cell_type": "markdown",
   "id": "5853fd6c-90ed-47ee-9c43-4c83398b7f63",
   "metadata": {},
   "source": [
    "### \"Use sklearn.ensamble.RandomForestClassifier"
   ]
  },
  {
   "cell_type": "code",
   "execution_count": 18,
   "id": "3a7b81bc-4485-4d0a-bb7c-5460bce355d9",
   "metadata": {},
   "outputs": [],
   "source": [
    "from sklearn.ensemble import RandomForestClassifier\n",
    "\n",
    "forest_clf = RandomForestClassifier(random_state=42)\n",
    "y_probas_forest = cross_val_predict(forest_clf, x_train, y_train_2, cv=3,\n",
    "                                    method=\"predict_proba\")"
   ]
  },
  {
   "cell_type": "code",
   "execution_count": 19,
   "id": "222f13ec-f9ba-4a68-a264-f6ff1478733a",
   "metadata": {},
   "outputs": [],
   "source": [
    "y_scores_forest = y_probas_forest[:, 1]   # score = proba of positive class\n",
    "fpr_forest, tpr_forest, thresholds_forest = roc_curve(y_train_2,y_scores_forest)"
   ]
  },
  {
   "cell_type": "code",
   "execution_count": 20,
   "id": "d07103eb-1255-4c92-bc0c-0e80e257057b",
   "metadata": {},
   "outputs": [
    {
     "data": {
      "image/png": "[encoded data removed]",
      "text/plain": [
       "<Figure size 432x288 with 1 Axes>"
      ]
     },
     "metadata": {
      "needs_background": "light"
     },
     "output_type": "display_data"
    }
   ],
   "source": [
    "plt.plot(fpr, tpr, \"b:\", label=\"SGD\")\n",
    "plot_roc_curve(fpr_forest, tpr_forest, \"Random Forest\")\n",
    "plt.legend(loc=\"lower right\")\n",
    "plt.show()"
   ]
  },
  {
   "cell_type": "markdown",
   "id": "70db4a87-3ecb-486b-8fed-5e7329d345f5",
   "metadata": {},
   "source": [
    "### \"Use OvO or OvR classifier\" (Chose to use OvR)"
   ]
  },
  {
   "cell_type": "code",
   "execution_count": 21,
   "id": "4cf18d74-e416-4ab4-bda0-41cc899f6610",
   "metadata": {},
   "outputs": [],
   "source": [
    "from sklearn.multiclass import OneVsRestClassifier \n",
    "from sklearn.svm import SVC"
   ]
  },
  {
   "cell_type": "code",
   "execution_count": 23,
   "id": "adb3efe2-65d0-41d8-b00f-82467976dd15",
   "metadata": {},
   "outputs": [
    {
     "data": {
      "text/plain": [
       "array([2], dtype=uint8)"
      ]
     },
     "execution_count": 23,
     "metadata": {},
     "output_type": "execute_result"
    }
   ],
   "source": [
    "svm_clf = SVC()\n",
    "svm_clf.fit(x_train, y_train)\n",
    "svm_clf.predict([some_digit]) # Using OvO strategy\n"
   ]
  },
  {
   "cell_type": "code",
   "execution_count": 24,
   "id": "d086b846-9ec2-4ca9-ae90-96c16c1beb2d",
   "metadata": {},
   "outputs": [
    {
     "data": {
      "text/plain": [
       "array([[ 6.23967633,  2.74790373,  9.31663366,  3.78943336,  7.29085442,\n",
       "         1.71424807,  8.29185535, -0.31020142,  4.89359543,  0.69515658]])"
      ]
     },
     "execution_count": 24,
     "metadata": {},
     "output_type": "execute_result"
    }
   ],
   "source": [
    "some_digit_scores = svm_clf.decision_function([some_digit])\n",
    "some_digit_scores"
   ]
  },
  {
   "cell_type": "code",
   "execution_count": 28,
   "id": "5df22cb3-8348-4130-9d0b-a33e9019d401",
   "metadata": {},
   "outputs": [
    {
     "data": {
      "text/plain": [
       "array([0, 1, 2, 3, 4, 5, 6, 7, 8, 9], dtype=uint8)"
      ]
     },
     "execution_count": 28,
     "metadata": {},
     "output_type": "execute_result"
    }
   ],
   "source": [
    "svm_clf.classes_ # Class 2 did the best out of the classes"
   ]
  },
  {
   "cell_type": "markdown",
   "id": "07e9167e-3c26-43bc-8275-24196cfa79c8",
   "metadata": {},
   "source": [
    "### \"Scale/normalize/standardize features using sklearn.preprocessing\" "
   ]
  },
  {
   "cell_type": "code",
   "execution_count": 35,
   "id": "dd6f758a-e18c-4cae-af66-c4bcc8cd7749",
   "metadata": {},
   "outputs": [],
   "source": [
    "from sklearn.preprocessing import StandardScaler\n",
    "scaler = StandardScaler()\n",
    "x_train_scaled = scaler.fit_transform(x_train.astype(np.float64))\n",
    "# cross_val_score(sgd_clf, x_train_scaled, y_train, cv=3, scoring=\"accuracy\")"
   ]
  },
  {
   "cell_type": "code",
   "execution_count": 36,
   "id": "59a9a320-bff8-4a63-959d-0d6daaff458f",
   "metadata": {},
   "outputs": [
    {
     "name": "stderr",
     "output_type": "stream",
     "text": [
      "C:\\Users\\Owner\\anaconda3\\envs\\mlenvPy3\\lib\\site-packages\\sklearn\\linear_model\\_stochastic_gradient.py:696: ConvergenceWarning: Maximum number of iteration reached before convergence. Consider increasing max_iter to improve the fit.\n",
      "  warnings.warn(\n",
      "C:\\Users\\Owner\\anaconda3\\envs\\mlenvPy3\\lib\\site-packages\\sklearn\\linear_model\\_stochastic_gradient.py:696: ConvergenceWarning: Maximum number of iteration reached before convergence. Consider increasing max_iter to improve the fit.\n",
      "  warnings.warn(\n",
      "C:\\Users\\Owner\\anaconda3\\envs\\mlenvPy3\\lib\\site-packages\\sklearn\\linear_model\\_stochastic_gradient.py:696: ConvergenceWarning: Maximum number of iteration reached before convergence. Consider increasing max_iter to improve the fit.\n",
      "  warnings.warn(\n"
     ]
    },
    {
     "data": {
      "text/plain": [
       "array([[4777,   19,   88,  448,   26,    1,  550,    0,   91,    0],\n",
       "       [  14, 5685,   38,  199,   15,    1,   45,    0,    3,    0],\n",
       "       [  42,    5, 4367,   90,  772,    0,  663,    0,   61,    0],\n",
       "       [ 212,  105,   76, 5205,  191,    0,  199,    0,   12,    0],\n",
       "       [   8,    5,  617,  330, 4449,    0,  568,    0,   23,    0],\n",
       "       [   4,    2,    3,   11,    2, 5489,   18,  277,   72,  122],\n",
       "       [ 806,   18,  635,  372,  550,    0, 3441,    1,  176,    1],\n",
       "       [   0,    0,    0,    0,    0,  319,    0, 5422,   16,  243],\n",
       "       [  31,    3,   28,  121,   33,   11,  138,   35, 5595,    5],\n",
       "       [   0,    0,    0,    6,    1,  100,    7,  251,    4, 5631]],\n",
       "      dtype=int64)"
      ]
     },
     "execution_count": 36,
     "metadata": {},
     "output_type": "execute_result"
    }
   ],
   "source": [
    "y_train_pred = cross_val_predict(sgd_clf, x_train_scaled, y_train, cv=3)\n",
    "conf_mx = confusion_matrix(y_train, y_train_pred)\n",
    "conf_mx"
   ]
  },
  {
   "cell_type": "markdown",
   "id": "ead674a9-9e83-4ce2-b2fa-1f38b09d9e28",
   "metadata": {},
   "source": [
    "### \"Scale/normalize/standardize features using sklearn.preprocessing\""
   ]
  },
  {
   "cell_type": "code",
   "execution_count": 45,
   "id": "9f6800c7-0bb2-4c22-ba1f-e28e08922ec2",
   "metadata": {},
   "outputs": [],
   "source": [
    "x_test.shape\n",
    "from sklearn.preprocessing import StandardScaler\n",
    "scaler = StandardScaler()\n",
    "x_test_scaled = scaler.fit_transform(x_test.astype(np.float64))\n",
    "# cross_val_score(sgd_clf, x_train_scaled, y_train, cv=3, scoring=\"accuracy\")"
   ]
  },
  {
   "cell_type": "code",
   "execution_count": 46,
   "id": "7440cdaa-29c0-4be2-89a8-b713580b4519",
   "metadata": {},
   "outputs": [
    {
     "data": {
      "text/plain": [
       "array([[759,   5,  24,  76,   4,   0, 112,   0,  20,   0],\n",
       "       [  4, 941,  10,  31,   7,   0,   6,   0,   1,   0],\n",
       "       [ 14,   2, 696,  25, 145,   0, 106,   0,  12,   0],\n",
       "       [ 41,  23,  14, 830,  33,   0,  56,   0,   2,   1],\n",
       "       [  1,   2, 131,  60, 707,   0,  97,   0,   2,   0],\n",
       "       [  2,   1,   0,   0,   0, 884,   0,  58,  18,  37],\n",
       "       [143,   2, 132,  79, 118,   0, 493,   1,  32,   0],\n",
       "       [  0,   0,   0,   0,   0,  65,   0, 884,   3,  48],\n",
       "       [ 10,   1,   5,  21,   3,   3,  20,   8, 928,   1],\n",
       "       [  0,   0,   0,   2,   0,  21,   2,  46,   0, 929]], dtype=int64)"
      ]
     },
     "execution_count": 46,
     "metadata": {},
     "output_type": "execute_result"
    }
   ],
   "source": [
    "y_test_pred = cross_val_predict(sgd_clf, x_test_scaled, y_test, cv=3)\n",
    "conf_mx = confusion_matrix(y_test, y_test_pred)\n",
    "conf_mx"
   ]
  },
  {
   "cell_type": "code",
   "execution_count": 37,
   "id": "9feb93a9-ec92-4973-8e60-94b4207d5006",
   "metadata": {},
   "outputs": [
    {
     "data": {
      "image/png": "[encoded data removed]",
      "text/plain": [
       "<Figure size 288x288 with 1 Axes>"
      ]
     },
     "metadata": {
      "needs_background": "light"
     },
     "output_type": "display_data"
    }
   ],
   "source": [
    "plt.matshow(conf_mx, cmap=plt.cm.gray)\n",
    "plt.show()"
   ]
  },
  {
   "cell_type": "code",
   "execution_count": 38,
   "id": "bc3e5fe6-6235-4861-8c56-a22ee4266f9e",
   "metadata": {},
   "outputs": [
    {
     "data": {
      "image/png": "[encoded data removed]",
      "text/plain": [
       "<Figure size 288x288 with 1 Axes>"
      ]
     },
     "metadata": {
      "needs_background": "light"
     },
     "output_type": "display_data"
    }
   ],
   "source": [
    "row_sums = conf_mx.sum(axis=1, keepdims=True)\n",
    "norm_conf_mx = conf_mx / row_sums\n",
    "np.fill_diagonal(norm_conf_mx, 0)\n",
    "plt.matshow(norm_conf_mx, cmap=plt.cm.gray)\n",
    "plt.show()"
   ]
  },
  {
   "cell_type": "markdown",
   "id": "707f7035-fb67-4fb8-9f57-2c9eef650db9",
   "metadata": {},
   "source": [
    "### \"Use sklearn.neighbors.KNeighborsClassifier\""
   ]
  },
  {
   "cell_type": "code",
   "execution_count": 39,
   "id": "10354095-8d93-4d11-a0e1-03c981896068",
   "metadata": {},
   "outputs": [
    {
     "data": {
      "text/plain": [
       "KNeighborsClassifier()"
      ]
     },
     "execution_count": 39,
     "metadata": {},
     "output_type": "execute_result"
    }
   ],
   "source": [
    "from sklearn.neighbors import KNeighborsClassifier\n",
    "y_train_odd = (y_train % 2 == 1)\n",
    "y_multilabel = np.c_[y_train, y_train_odd]\n",
    "knn_clf = KNeighborsClassifier()\n",
    "knn_clf.fit(x_train, y_multilabel)\n"
   ]
  },
  {
   "cell_type": "code",
   "execution_count": 40,
   "id": "40d8e431-0a7f-4ff8-82e0-916e1a6dbadc",
   "metadata": {},
   "outputs": [
    {
     "data": {
      "text/plain": [
       "array([[2, 0]], dtype=uint8)"
      ]
     },
     "execution_count": 40,
     "metadata": {},
     "output_type": "execute_result"
    }
   ],
   "source": [
    "knn_clf.predict([some_digit])"
   ]
  }
 ],
 "metadata": {
  "kernelspec": {
   "display_name": "Python 3 (ipykernel)",
   "language": "python",
   "name": "python3"
  },
  "language_info": {
   "codemirror_mode": {
    "name": "ipython",
    "version": 3
   },
   "file_extension": ".py",
   "mimetype": "text/x-python",
   "name": "python",
   "nbconvert_exporter": "python",
   "pygments_lexer": "ipython3",
   "version": "3.9.7"
  }
 },
 "nbformat": 4,
 "nbformat_minor": 5
}

{
 "cells": [
  {
   "cell_type": "code",
   "execution_count": 75,
   "id": "cc30f476-7113-46b2-9479-45d566eb64c3",
   "metadata": {},
   "outputs": [],
   "source": [
    "import pandas as pd\n",
    "from sklearn.pipeline import Pipeline\n",
    "from sklearn.base import BaseEstimator, TransformerMixin\n",
    "from sklearn.linear_model import LinearRegression\n",
    "from sklearn.model_selection import train_test_split\n",
    "from sklearn.preprocessing import OrdinalEncoder"
   ]
  },
  {
   "cell_type": "code",
   "execution_count": 88,
   "id": "bc968fbc-ab0a-4507-86c3-267bd12d026c",
   "metadata": {},
   "outputs": [],
   "source": [
    "realEstateData = pd.read_csv('WakeCountyHousing.csv',parse_dates=[3,4])\n",
    "realEstateData = realEstateData.dropna()"
   ]
  },
  {
   "cell_type": "code",
   "execution_count": 51,
   "id": "a93e76e4-d992-4463-8518-ee543cf8ed33",
   "metadata": {
    "collapsed": true,
    "jupyter": {
     "outputs_hidden": true
    },
    "tags": []
   },
   "outputs": [
    {
     "name": "stdout",
     "output_type": "stream",
     "text": [
      "<class 'pandas.core.frame.DataFrame'>\n",
      "RangeIndex: 308292 entries, 0 to 308291\n",
      "Data columns (total 15 columns):\n",
      " #   Column              Non-Null Count   Dtype         \n",
      "---  ------              --------------   -----         \n",
      " 0   Real_Estate_Id      308292 non-null  int64         \n",
      " 1   Deeded_Acreage      308292 non-null  float64       \n",
      " 2   Total_Sale_Price    308292 non-null  int64         \n",
      " 3   Total_Sale_Date     308292 non-null  datetime64[ns]\n",
      " 4   Month_Year_of_Sale  308292 non-null  datetime64[ns]\n",
      " 5   Year_of_Sale        308292 non-null  int64         \n",
      " 6   Year_Built          308292 non-null  int64         \n",
      " 7   Year_Remodeled      308292 non-null  int64         \n",
      " 8   Heated_Area         308292 non-null  int64         \n",
      " 9   Num_Stories         308292 non-null  object        \n",
      " 10  Design_Style        308292 non-null  object        \n",
      " 11  Bath                308275 non-null  object        \n",
      " 12  Utilities           306324 non-null  object        \n",
      " 13  Physical_City       308183 non-null  object        \n",
      " 14  Physical_Zip        308146 non-null  float64       \n",
      "dtypes: datetime64[ns](2), float64(2), int64(6), object(5)\n",
      "memory usage: 35.3+ MB\n"
     ]
    }
   ],
   "source": [
    "realEstateData.info()"
   ]
  },
  {
   "cell_type": "code",
   "execution_count": 89,
   "id": "ef631d66-5ef7-417e-95b3-c393c552a8c2",
   "metadata": {},
   "outputs": [],
   "source": [
    "class CustomTransformer(BaseEstimator, TransformerMixin):\n",
    "    def __init__(self):\n",
    "        print(\"Init\\n\")\n",
    "    \n",
    "    def fit(self, X, y = None):\n",
    "        return self\n",
    "    \n",
    "    def transform(self, X, y = None):\n",
    "        x_ = X.copy()\n",
    "        #print(\"Transforming\\n\")\n",
    "        #Ordinal Encoding of Num_Stories\n",
    "        ordinal_encoder = OrdinalEncoder(categories = [['Other','One Story','Two Story']])\n",
    "        ordinal_encoder.fit(x_[['Num_Stories']])\n",
    "        x_['Num_Stories'] = ordinal_encoder.transform(x_[['Num_Stories']])\n",
    "        #OneHotEncoding of Physical_City\n",
    "        x_ = pd.get_dummies(x_,prefix=['City'], columns= ['Physical_City']).copy()\n",
    "        return x_"
   ]
  },
  {
   "cell_type": "code",
   "execution_count": 90,
   "id": "653da68b-c0fc-4a65-a160-271caec14229",
   "metadata": {
    "tags": []
   },
   "outputs": [
    {
     "name": "stdout",
     "output_type": "stream",
     "text": [
      "Init\n",
      "\n"
     ]
    }
   ],
   "source": [
    "fullPipeline = Pipeline(steps = [\n",
    "                                (\"CustomTransformer\", CustomTransformer()),\n",
    "                                (\"LinearRegression\", LinearRegression())\n",
    "])"
   ]
  },
  {
   "cell_type": "code",
   "execution_count": 91,
   "id": "e400897d-5da5-46c3-b6fa-fd2596ac96b9",
   "metadata": {},
   "outputs": [],
   "source": [
    "#Splitting Data\n",
    "train_set, test_set = train_test_split(realEstateData, test_size=0.2, random_state=42)\n",
    "\n",
    "keepVar = ['Total_Sale_Price','Deeded_Acreage','Heated_Area','Num_Stories','Physical_City']\n",
    "train_set = train_set[keepVar]\n",
    "test_set = test_set[keepVar]\n",
    "\n",
    "train_x = train_set.drop('Total_Sale_Price',axis=1)\n",
    "train_y = train_set['Total_Sale_Price']\n",
    "test_x = test_set.drop('Total_Sale_Price',axis=1)\n",
    "test_y = test_set['Total_Sale_Price']"
   ]
  },
  {
   "cell_type": "code",
   "execution_count": 97,
   "id": "2e560690-380f-4398-801e-dd0c45316b46",
   "metadata": {
    "tags": []
   },
   "outputs": [],
   "source": [
    "#Using Full Pipeline\n",
    "fullPipeline.fit(train_x,train_y)\n",
    "result_y = fullPipeline.predict(test_x)"
   ]
  },
  {
   "cell_type": "code",
   "execution_count": 99,
   "id": "21d32527-e218-4c99-8102-827ea5e8dfbb",
   "metadata": {},
   "outputs": [
    {
     "name": "stdout",
     "output_type": "stream",
     "text": [
      "MAE:  79191.21670887928\n",
      "MSE:  15526359125.280104\n"
     ]
    }
   ],
   "source": [
    "#Very Bad Model\n",
    "import sklearn.metrics as metrics\n",
    "linRegMAE = metrics.mean_absolute_error(test_y, result_y)\n",
    "linRegMSE = metrics.mean_squared_error(test_y, result_y)\n",
    "print(\"MAE: \", linRegMAE)\n",
    "print(\"MSE: \", linRegMSE)"
   ]
  }
 ],
 "metadata": {
  "kernelspec": {
   "display_name": "Python 3 (ipykernel)",
   "language": "python",
   "name": "python3"
  },
  "language_info": {
   "codemirror_mode": {
    "name": "ipython",
    "version": 3
   },
   "file_extension": ".py",
   "mimetype": "text/x-python",
   "name": "python",
   "nbconvert_exporter": "python",
   "pygments_lexer": "ipython3",
   "version": "3.9.7"
  }
 },
 "nbformat": 4,
 "nbformat_minor": 5
}
